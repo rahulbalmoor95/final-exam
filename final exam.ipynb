{
 "cells": [
  {
   "cell_type": "code",
   "execution_count": 45,
   "id": "d3ae7a3b",
   "metadata": {},
   "outputs": [],
   "source": [
    "# importing libraries\n",
    "import pandas as pd \n",
    "import numpy as np\n",
    "from scipy.optimize import fsolve\n",
    "import matplotlib.pyplot as plt"
   ]
  },
  {
   "cell_type": "code",
   "execution_count": 12,
   "id": "fe669b2f",
   "metadata": {},
   "outputs": [
    {
     "name": "stderr",
     "output_type": "stream",
     "text": [
      "C:\\Users\\Rahul Balmoor\\anaconda3\\lib\\site-packages\\scipy\\optimize\\minpack.py:175: RuntimeWarning: The iteration is not making good progress, as measured by the \n",
      "  improvement from the last five Jacobian evaluations.\n",
      "  warnings.warn(msg, RuntimeWarning)\n"
     ]
    },
    {
     "data": {
      "text/plain": [
       "array([-6.36647677,  9.60019915])"
      ]
     },
     "execution_count": 12,
     "metadata": {},
     "output_type": "execute_result"
    }
   ],
   "source": [
    "# defining variables in the given function \n",
    "#\n",
    "q = 40\n",
    "c = 0.6\n",
    "g = 32.2\n",
    "\n",
    "h = lambda d: d**5-12*d**4+(16*q**2/(np.pi)**2*c**2*g)\n",
    "\n",
    "fsolve(h,[1,10])"
   ]
  },
  {
   "cell_type": "code",
   "execution_count": 16,
   "id": "b453c334",
   "metadata": {},
   "outputs": [],
   "source": [
    "def f(d):\n",
    "    res = np.d**5-12*d**4+(16*q**2/(np.pi)**2*c**2*g)\n",
    "    return res\n",
    "def dfdx(d):\n",
    "    res = -np.d**3*48\n",
    "    res\n",
    "\n",
    "\n",
    "\n",
    "\n",
    "\n"
   ]
  },
  {
   "cell_type": "code",
   "execution_count": 22,
   "id": "9310ed1a",
   "metadata": {},
   "outputs": [
    {
     "name": "stdout",
     "output_type": "stream",
     "text": [
      "newton_raphson = 9.790258580916278\n",
      "sqrt(10) = 3.1622776601683795\n"
     ]
    }
   ],
   "source": [
    "# code cited from below website \n",
    "#https://pythonnumericalmethods.berkeley.edu/notebooks/chapter19.04-Newton-Raphson-Method.html\n",
    "\n",
    "f = lambda d: d**5-12*d**4+(16*q**2/(np.pi)**2*c**2*g)\n",
    "f_prime = lambda d: d**3*48\n",
    "newton_raphson = 10 - (f(10))/(f_prime(10))\n",
    "\n",
    "print(\"newton_raphson =\", newton_raphson)\n",
    "print(\"sqrt(10) =\", np.sqrt(10))"
   ]
  },
  {
   "cell_type": "markdown",
   "id": "6aa7ca91",
   "metadata": {},
   "source": [
    "<h4><font color=\"purple\"> Problem-2</font> </h4>"
   ]
  },
  {
   "cell_type": "code",
   "execution_count": null,
   "id": "523498c4",
   "metadata": {},
   "outputs": [],
   "source": [
    "# population data is downloaded from\n",
    "#https://www.census.gov/programs-surveys/popest/technical-documentation/research/evaluation-estimates/2020-evaluation-estimates/2010s-totals-national.html"
   ]
  },
  {
   "cell_type": "code",
   "execution_count": 23,
   "id": "c86e3728",
   "metadata": {},
   "outputs": [],
   "source": [
    "a = pd.read_csv('E:/Fall 2022/python/nst-est2020.csv') # reading csv file to dataframe a"
   ]
  },
  {
   "cell_type": "code",
   "execution_count": 56,
   "id": "2157b788",
   "metadata": {},
   "outputs": [],
   "source": [
    "aa1=a.iloc[0].to_frame('col')"
   ]
  },
  {
   "cell_type": "code",
   "execution_count": 57,
   "id": "16bd09bd",
   "metadata": {},
   "outputs": [
    {
     "data": {
      "text/html": [
       "<div>\n",
       "<style scoped>\n",
       "    .dataframe tbody tr th:only-of-type {\n",
       "        vertical-align: middle;\n",
       "    }\n",
       "\n",
       "    .dataframe tbody tr th {\n",
       "        vertical-align: top;\n",
       "    }\n",
       "\n",
       "    .dataframe thead th {\n",
       "        text-align: right;\n",
       "    }\n",
       "</style>\n",
       "<table border=\"1\" class=\"dataframe\">\n",
       "  <thead>\n",
       "    <tr style=\"text-align: right;\">\n",
       "      <th></th>\n",
       "      <th>col</th>\n",
       "    </tr>\n",
       "  </thead>\n",
       "  <tbody>\n",
       "    <tr>\n",
       "      <th>SUMLEV</th>\n",
       "      <td>10</td>\n",
       "    </tr>\n",
       "    <tr>\n",
       "      <th>REGION</th>\n",
       "      <td>0</td>\n",
       "    </tr>\n",
       "    <tr>\n",
       "      <th>DIVISION</th>\n",
       "      <td>0</td>\n",
       "    </tr>\n",
       "    <tr>\n",
       "      <th>STATE</th>\n",
       "      <td>0</td>\n",
       "    </tr>\n",
       "    <tr>\n",
       "      <th>NAME</th>\n",
       "      <td>United States</td>\n",
       "    </tr>\n",
       "    <tr>\n",
       "      <th>CENSUS2010POP</th>\n",
       "      <td>308745538</td>\n",
       "    </tr>\n",
       "    <tr>\n",
       "      <th>ESTIMATESBASE2010</th>\n",
       "      <td>308758105</td>\n",
       "    </tr>\n",
       "    <tr>\n",
       "      <th>POPESTIMATE2010</th>\n",
       "      <td>309327143</td>\n",
       "    </tr>\n",
       "    <tr>\n",
       "      <th>POPESTIMATE2011</th>\n",
       "      <td>311583481</td>\n",
       "    </tr>\n",
       "    <tr>\n",
       "      <th>POPESTIMATE2012</th>\n",
       "      <td>313877662</td>\n",
       "    </tr>\n",
       "    <tr>\n",
       "      <th>POPESTIMATE2013</th>\n",
       "      <td>316059947</td>\n",
       "    </tr>\n",
       "    <tr>\n",
       "      <th>POPESTIMATE2014</th>\n",
       "      <td>318386329</td>\n",
       "    </tr>\n",
       "    <tr>\n",
       "      <th>POPESTIMATE2015</th>\n",
       "      <td>320738994</td>\n",
       "    </tr>\n",
       "    <tr>\n",
       "      <th>POPESTIMATE2016</th>\n",
       "      <td>323071755</td>\n",
       "    </tr>\n",
       "    <tr>\n",
       "      <th>POPESTIMATE2017</th>\n",
       "      <td>325122128</td>\n",
       "    </tr>\n",
       "    <tr>\n",
       "      <th>POPESTIMATE2018</th>\n",
       "      <td>326838199</td>\n",
       "    </tr>\n",
       "    <tr>\n",
       "      <th>POPESTIMATE2019</th>\n",
       "      <td>328329953</td>\n",
       "    </tr>\n",
       "    <tr>\n",
       "      <th>POPESTIMATE042020</th>\n",
       "      <td>329398742</td>\n",
       "    </tr>\n",
       "    <tr>\n",
       "      <th>POPESTIMATE2020</th>\n",
       "      <td>329484123</td>\n",
       "    </tr>\n",
       "  </tbody>\n",
       "</table>\n",
       "</div>"
      ],
      "text/plain": [
       "                             col\n",
       "SUMLEV                        10\n",
       "REGION                         0\n",
       "DIVISION                       0\n",
       "STATE                          0\n",
       "NAME               United States\n",
       "CENSUS2010POP          308745538\n",
       "ESTIMATESBASE2010      308758105\n",
       "POPESTIMATE2010        309327143\n",
       "POPESTIMATE2011        311583481\n",
       "POPESTIMATE2012        313877662\n",
       "POPESTIMATE2013        316059947\n",
       "POPESTIMATE2014        318386329\n",
       "POPESTIMATE2015        320738994\n",
       "POPESTIMATE2016        323071755\n",
       "POPESTIMATE2017        325122128\n",
       "POPESTIMATE2018        326838199\n",
       "POPESTIMATE2019        328329953\n",
       "POPESTIMATE042020      329398742\n",
       "POPESTIMATE2020        329484123"
      ]
     },
     "execution_count": 57,
     "metadata": {},
     "output_type": "execute_result"
    }
   ],
   "source": [
    "aa1"
   ]
  },
  {
   "cell_type": "code",
   "execution_count": null,
   "id": "ce1c8f58",
   "metadata": {},
   "outputs": [],
   "source": []
  },
  {
   "cell_type": "code",
   "execution_count": 58,
   "id": "a09e77dd",
   "metadata": {},
   "outputs": [],
   "source": [
    "aa1 = aa.iloc[4:] # we have unecessary rows on top so dropped those rows "
   ]
  },
  {
   "cell_type": "code",
   "execution_count": 59,
   "id": "79add16b",
   "metadata": {},
   "outputs": [
    {
     "data": {
      "text/plain": [
       "NAME                 United States\n",
       "CENSUS2010POP            308745538\n",
       "ESTIMATESBASE2010        308758105\n",
       "POPESTIMATE2010          309327143\n",
       "POPESTIMATE2011          311583481\n",
       "POPESTIMATE2012          313877662\n",
       "POPESTIMATE2013          316059947\n",
       "POPESTIMATE2014          318386329\n",
       "POPESTIMATE2015          320738994\n",
       "POPESTIMATE2016          323071755\n",
       "POPESTIMATE2017          325122128\n",
       "POPESTIMATE2018          326838199\n",
       "POPESTIMATE2019          328329953\n",
       "POPESTIMATE042020        329398742\n",
       "POPESTIMATE2020          329484123\n",
       "Name: 0, dtype: object"
      ]
     },
     "execution_count": 59,
     "metadata": {},
     "output_type": "execute_result"
    }
   ],
   "source": [
    "aa1 \n"
   ]
  },
  {
   "cell_type": "code",
   "execution_count": 62,
   "id": "8fec22e5",
   "metadata": {},
   "outputs": [],
   "source": [
    "aa1=pd.DataFrame(aa1)"
   ]
  },
  {
   "cell_type": "code",
   "execution_count": 64,
   "id": "1bcd7d48",
   "metadata": {},
   "outputs": [],
   "source": [
    "aa1.to_csv('pop.csv') # converting output dataframe to csv "
   ]
  },
  {
   "cell_type": "code",
   "execution_count": 66,
   "id": "e1bbe038",
   "metadata": {},
   "outputs": [
    {
     "data": {
      "text/html": [
       "<div>\n",
       "<style scoped>\n",
       "    .dataframe tbody tr th:only-of-type {\n",
       "        vertical-align: middle;\n",
       "    }\n",
       "\n",
       "    .dataframe tbody tr th {\n",
       "        vertical-align: top;\n",
       "    }\n",
       "\n",
       "    .dataframe thead th {\n",
       "        text-align: right;\n",
       "    }\n",
       "</style>\n",
       "<table border=\"1\" class=\"dataframe\">\n",
       "  <thead>\n",
       "    <tr style=\"text-align: right;\">\n",
       "      <th></th>\n",
       "      <th>0</th>\n",
       "    </tr>\n",
       "  </thead>\n",
       "  <tbody>\n",
       "    <tr>\n",
       "      <th>NAME</th>\n",
       "      <td>United States</td>\n",
       "    </tr>\n",
       "    <tr>\n",
       "      <th>CENSUS2010POP</th>\n",
       "      <td>308745538</td>\n",
       "    </tr>\n",
       "    <tr>\n",
       "      <th>ESTIMATESBASE2010</th>\n",
       "      <td>308758105</td>\n",
       "    </tr>\n",
       "    <tr>\n",
       "      <th>POPESTIMATE2010</th>\n",
       "      <td>309327143</td>\n",
       "    </tr>\n",
       "    <tr>\n",
       "      <th>POPESTIMATE2011</th>\n",
       "      <td>311583481</td>\n",
       "    </tr>\n",
       "    <tr>\n",
       "      <th>POPESTIMATE2012</th>\n",
       "      <td>313877662</td>\n",
       "    </tr>\n",
       "    <tr>\n",
       "      <th>POPESTIMATE2013</th>\n",
       "      <td>316059947</td>\n",
       "    </tr>\n",
       "    <tr>\n",
       "      <th>POPESTIMATE2014</th>\n",
       "      <td>318386329</td>\n",
       "    </tr>\n",
       "    <tr>\n",
       "      <th>POPESTIMATE2015</th>\n",
       "      <td>320738994</td>\n",
       "    </tr>\n",
       "    <tr>\n",
       "      <th>POPESTIMATE2016</th>\n",
       "      <td>323071755</td>\n",
       "    </tr>\n",
       "    <tr>\n",
       "      <th>POPESTIMATE2017</th>\n",
       "      <td>325122128</td>\n",
       "    </tr>\n",
       "    <tr>\n",
       "      <th>POPESTIMATE2018</th>\n",
       "      <td>326838199</td>\n",
       "    </tr>\n",
       "    <tr>\n",
       "      <th>POPESTIMATE2019</th>\n",
       "      <td>328329953</td>\n",
       "    </tr>\n",
       "    <tr>\n",
       "      <th>POPESTIMATE042020</th>\n",
       "      <td>329398742</td>\n",
       "    </tr>\n",
       "    <tr>\n",
       "      <th>POPESTIMATE2020</th>\n",
       "      <td>329484123</td>\n",
       "    </tr>\n",
       "  </tbody>\n",
       "</table>\n",
       "</div>"
      ],
      "text/plain": [
       "                               0\n",
       "NAME               United States\n",
       "CENSUS2010POP          308745538\n",
       "ESTIMATESBASE2010      308758105\n",
       "POPESTIMATE2010        309327143\n",
       "POPESTIMATE2011        311583481\n",
       "POPESTIMATE2012        313877662\n",
       "POPESTIMATE2013        316059947\n",
       "POPESTIMATE2014        318386329\n",
       "POPESTIMATE2015        320738994\n",
       "POPESTIMATE2016        323071755\n",
       "POPESTIMATE2017        325122128\n",
       "POPESTIMATE2018        326838199\n",
       "POPESTIMATE2019        328329953\n",
       "POPESTIMATE042020      329398742\n",
       "POPESTIMATE2020        329484123"
      ]
     },
     "execution_count": 66,
     "metadata": {},
     "output_type": "execute_result"
    }
   ],
   "source": [
    "aa1"
   ]
  },
  {
   "cell_type": "code",
   "execution_count": 73,
   "id": "99ce5878",
   "metadata": {},
   "outputs": [
    {
     "data": {
      "text/plain": [
       "[<matplotlib.lines.Line2D at 0x1fb00069520>]"
      ]
     },
     "execution_count": 73,
     "metadata": {},
     "output_type": "execute_result"
    },
    {
     "data": {
      "image/png": "[encoded data removed]",
      "text/plain": [
       "<Figure size 640x480 with 1 Axes>"
      ]
     },
     "metadata": {},
     "output_type": "display_data"
    }
   ],
   "source": [
    "#Creating plot\n",
    "x4=[2010,2011,2012,2013,2014,2015,2016,2017,2018,2019,2020] \n",
    "y4=[309327143,311583481,313877662,316059947,318386329,320738994,323071755,325122128,326838199,328329953,329484123]  \n",
    "\n",
    "\n",
    "\n",
    "plt.plot(x4,y4)\n",
    "\n"
   ]
  },
  {
   "cell_type": "code",
   "execution_count": null,
   "id": "600172d3",
   "metadata": {},
   "outputs": [],
   "source": []
  },
  {
   "cell_type": "code",
   "execution_count": null,
   "id": "3aee1a45",
   "metadata": {},
   "outputs": [],
   "source": []
  },
  {
   "cell_type": "code",
   "execution_count": null,
   "id": "3367af84",
   "metadata": {},
   "outputs": [],
   "source": []
  },
  {
   "cell_type": "code",
   "execution_count": null,
   "id": "c978d0c1",
   "metadata": {},
   "outputs": [],
   "source": []
  }
 ],
 "metadata": {
  "kernelspec": {
   "display_name": "Python 3 (ipykernel)",
   "language": "python",
   "name": "python3"
  },
  "language_info": {
   "codemirror_mode": {
    "name": "ipython",
    "version": 3
   },
   "file_extension": ".py",
   "mimetype": "text/x-python",
   "name": "python",
   "nbconvert_exporter": "python",
   "pygments_lexer": "ipython3",
   "version": "3.9.12"
  }
 },
 "nbformat": 4,
 "nbformat_minor": 5
}
